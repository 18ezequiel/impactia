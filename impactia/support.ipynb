{
 "cells": [
  {
   "cell_type": "code",
   "execution_count": 1,
   "metadata": {},
   "outputs": [
    {
     "data": {
      "text/html": [
       "<div>\n",
       "<style scoped>\n",
       "    .dataframe tbody tr th:only-of-type {\n",
       "        vertical-align: middle;\n",
       "    }\n",
       "\n",
       "    .dataframe tbody tr th {\n",
       "        vertical-align: top;\n",
       "    }\n",
       "\n",
       "    .dataframe thead th {\n",
       "        text-align: right;\n",
       "    }\n",
       "</style>\n",
       "<table border=\"1\" class=\"dataframe\">\n",
       "  <thead>\n",
       "    <tr style=\"text-align: right;\">\n",
       "      <th></th>\n",
       "      <th>url</th>\n",
       "      <th>title</th>\n",
       "      <th>language</th>\n",
       "      <th>email</th>\n",
       "      <th>description</th>\n",
       "      <th>procedure_type</th>\n",
       "      <th>status</th>\n",
       "      <th>nuts</th>\n",
       "      <th>main_cpv</th>\n",
       "      <th>total_value</th>\n",
       "      <th>buyer</th>\n",
       "      <th>document_sent</th>\n",
       "      <th>dead_line</th>\n",
       "    </tr>\n",
       "  </thead>\n",
       "  <tbody>\n",
       "    <tr>\n",
       "      <th>0</th>\n",
       "      <td>https://ted.europa.eu/udl?uri=TED:NOTICE:34443...</td>\n",
       "      <td>Technical Assistance for Kadir Has University ...</td>\n",
       "      <td>EN</td>\n",
       "      <td>rsp.tender@sanayi.gov.tr</td>\n",
       "      <td>This operation focuses on the Film Industry wi...</td>\n",
       "      <td>Restricted</td>\n",
       "      <td>Open</td>\n",
       "      <td>TR100</td>\n",
       "      <td>79400000</td>\n",
       "      <td>1,678,500.00 EUR</td>\n",
       "      <td>TR</td>\n",
       "      <td>06/07/2021</td>\n",
       "      <td>20/08/2021</td>\n",
       "    </tr>\n",
       "    <tr>\n",
       "      <th>1</th>\n",
       "      <td>https://ted.europa.eu/udl?uri=TED:NOTICE:34443...</td>\n",
       "      <td>Technical Assistance for Kadir Has University ...</td>\n",
       "      <td>EN</td>\n",
       "      <td>rsp.tender@sanayi.gov.tr</td>\n",
       "      <td>This operation focuses on the Film Industry wi...</td>\n",
       "      <td>Restricted</td>\n",
       "      <td>Open</td>\n",
       "      <td>TR100</td>\n",
       "      <td>79400000</td>\n",
       "      <td>1,678,500.00 EUR</td>\n",
       "      <td>TR</td>\n",
       "      <td>06/07/2021</td>\n",
       "      <td>20/08/2021</td>\n",
       "    </tr>\n",
       "  </tbody>\n",
       "</table>\n",
       "</div>"
      ],
      "text/plain": [
       "                                                 url  \\\n",
       "0  https://ted.europa.eu/udl?uri=TED:NOTICE:34443...   \n",
       "1  https://ted.europa.eu/udl?uri=TED:NOTICE:34443...   \n",
       "\n",
       "                                               title language  \\\n",
       "0  Technical Assistance for Kadir Has University ...       EN   \n",
       "1  Technical Assistance for Kadir Has University ...       EN   \n",
       "\n",
       "                      email  \\\n",
       "0  rsp.tender@sanayi.gov.tr   \n",
       "1  rsp.tender@sanayi.gov.tr   \n",
       "\n",
       "                                         description procedure_type status  \\\n",
       "0  This operation focuses on the Film Industry wi...     Restricted   Open   \n",
       "1  This operation focuses on the Film Industry wi...     Restricted   Open   \n",
       "\n",
       "    nuts  main_cpv       total_value buyer document_sent   dead_line  \n",
       "0  TR100  79400000  1,678,500.00 EUR    TR    06/07/2021  20/08/2021  \n",
       "1  TR100  79400000  1,678,500.00 EUR    TR    06/07/2021  20/08/2021  "
      ]
     },
     "execution_count": 1,
     "metadata": {},
     "output_type": "execute_result"
    }
   ],
   "source": [
    "import pandas as pd\n",
    "\n",
    "df = pd.read_csv('archivo_etl.csv')\n",
    "df"
   ]
  },
  {
   "cell_type": "code",
   "execution_count": null,
   "metadata": {},
   "outputs": [],
   "source": []
  }
 ],
 "metadata": {
  "kernelspec": {
   "display_name": "Python 3",
   "language": "python",
   "name": "python3"
  },
  "language_info": {
   "codemirror_mode": {
    "name": "ipython",
    "version": 3
   },
   "file_extension": ".py",
   "mimetype": "text/x-python",
   "name": "python",
   "nbconvert_exporter": "python",
   "pygments_lexer": "ipython3",
   "version": "3.10.11"
  },
  "orig_nbformat": 4
 },
 "nbformat": 4,
 "nbformat_minor": 2
}
